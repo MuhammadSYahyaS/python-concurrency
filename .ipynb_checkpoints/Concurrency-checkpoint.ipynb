{
 "cells": [
  {
   "cell_type": "markdown",
   "metadata": {},
   "source": [
    "# Choosing Concurrency and Parallelism for Your Python Projects\n",
    "Keywords: concurrency, parallelism, asynchronous, multithreading, multiprocessing, asyncio, process, thread, task"
   ]
  },
  {
   "cell_type": "markdown",
   "metadata": {},
   "source": [
    "## Table of Contents\n",
    "* Introduction (1 mins)\n",
    "* CPU-bound vs I/O-bound (3 mins)\n",
    "* Concurrency and parallelism demystified (2 mins)\n",
    "* Cooperative multitasking vs Pre-emptive multitasking (3 mins)\n",
    "* Concurrency in (C)Python (3 mins)\n",
    "* Race condition (3 mins)\n",
    "* GIL in CPython (1 mins)\n",
    "* Multithreading and examples (7 mins)\n",
    "* Asyncio and examples (7 mins)\n",
    "* Multiprocessing and examples (7 mins)\n",
    "* Summary\n",
    "    * Choosing concurrency and parallelism for your Python projects (2 mins)\n",
    "    * Concurrency and parallelism packages (1 mins)\n",
    "* References"
   ]
  },
  {
   "cell_type": "markdown",
   "metadata": {},
   "source": [
    "## Introduction\n",
    "\n",
    "> _Dealing with concurrency becomes hard when we lack the ‘working knowledge’ and best practices are not followed._ ‒ Ramith Jayasinghe, Experienced Software Engineer.\n",
    "\n",
    "A brief description about the generic terms of concurrency and parallelism, multitasking styles, and task bounds to first make understand the basic concepts of concurrency and parallelism will be given in this material. The story of Python interpreter implementation for embracing concurrency will also be given. Popular Python built-in packages for concurrent programming (i.e. multithreading, multiprocessing, and asyncio) will be shown, given some minimum working example. At last by this material, choosing what is the best concurrent programming approach for many projects and extending into more wild 3rd party packages for the sake of concurrency will be easier.\n",
    "\n",
    "The rest of this material (I mean, all) will be given in Bahasa Indonesia.\n",
    "\n",
    "> _Written by :  \n",
    "Muhammad Shalahuddin Yahya Sunarko  \n",
    "AI Technical Lead of <a href=\"https://www.qlue.co.id/\">Qlue Performa Indonesia</a>  \n",
    "Jakarta, 21 November 2019 for <a href=\"https://pycon.id/\">PyCon Indonesia 2019</a>_  "
   ]
  },
  {
   "cell_type": "markdown",
   "metadata": {},
   "source": [
    "### Limitations\n",
    "Python version >=3.5 is required  \n",
    "Tested on Python 3.6.8"
   ]
  },
  {
   "cell_type": "markdown",
   "metadata": {},
   "source": [
    "## CPU-bound vs I/O-bound\n",
    "Program CPU*-bound* adalah program yang memiliki kecenderungan lebih banyak melakukan operasi yang mengutilisasi CPU. _Task_ yang berhubungan dengan utilisasi CPU untuk melakukan operasi, misalnya untuk melakukan operasi komputasi hasil perkalian matriks dua buah _array,_ atau operasi perintah memulai pemindahan data dari RAM ke harddisk. Pada jenis _task_ ini, jika CPU berhenti melakukan eksekusi pada _thread_ tersebut, operasi tidak dapat berjalan.\n",
    "\n",
    "Program I/O*-bound* adalah program yang memiliki kecenderungan lebih banyak menunggu operasi _input_ dan _output._ _Task_ yang berhubungan dengan membaca atau menulis data dari/ke berkas lokal maupun _socket_ dalam jaringan di mana CPU hanya menunggu _task_ tersebut selesai adalah _task_ yang terkait dengan I/O. _Task_ tersebut dilakukan oleh perangkat-perangkat keras di luar CPU seperti misalnya harddisk dan WiFi, untuk memindahkan data dari/ke RAM. Operasi pemindahan tersebut dikenal sebagai IOwait. Pada saat itu, CPU berhenti melakukan eksekusi pada _thread_ tersebut, menunggu I/O selesai, dan CPU dapat dipekerjakan untuk _task_ lain.\n",
    "\n",
    "<img src='src/images/1-s2.0-S0045790616302270-gr1.jpg' width='640px'/>\n",
    "<p style=\"text-align: center;color:gray\">Gambar 1. CPU*-bound* vs I/O*-bound* (Sumber: <a href=\"https://ars.els-cdn.com/content/image/1-s2.0-S0045790616302270-gr1.jpg\">https://ars.els-cdn.com/content/image/1-s2.0-S0045790616302270-gr1.jpg</a>)</i></p>\n"
   ]
  },
  {
   "cell_type": "markdown",
   "metadata": {},
   "source": [
    "## Concurrency and Parallelism Demystified\n",
    "_Concurrency_ adalah _task_ yang dapat dimulai, dikerjakan, dan diselesaikan dalam waktu yang bertumpang-tindih dengan berbagai _task_ lain.  \n",
    "Pengerjaan _task_ tidak musti terjadi dalam waktu yang benar-benar bersamaan (contoh: _multitasking_ pada sistem _single-core_ CPU).\n",
    "\n",
    "_Parallelism_ adalah _task_ yang dikerjakan dalam waktu yang benar-benar bersamaan. _Parallelism_ dapat dicapai menggunakan sistem _multi-core_ CPU.\n",
    "\n",
    "Makin banyak core makin besar parallelism. Makin besar kapasitas pemrosesan CPU makin cepat concurrency? Tunggu dulu.\n",
    "\n",
    "<img src='src/images/parallel_sequential_concurrent.jpg' width='640px'/>\n",
    "<p style=\"text-align: center;color:gray\">Gambar 2. Ilustrasi pengerjaan <i>task</i> secara <i>sequential</i>, <i>concurrent</i>, dan <i>parallel</i>.<br /><i>(Sumber: <a href=\"http://www.dietergalea.com/parallelism-concurrency/\">http://www.dietergalea.com/parallelism-concurrency/</a> ; dimodifikasi)</i></p>\n"
   ]
  },
  {
   "cell_type": "markdown",
   "metadata": {},
   "source": [
    "## Cooperative Multitasking vs Pre-emptive Multitasking\n",
    "\n",
    "_Cooperative multitasking (non-preemptive multitasking)_ adalah _multitasking_ dimana setiap _task_ secara _voluntarily_ / kooperatif memberitahu dengan cara _yield_ (menyerahkan) kontrol pada saat tidak ada pekerjaan atau _blocked,_ kapan bisa dilakukan _switch._ Keuntungan _cooperative multitasking_ yaitu diketahui dengan jelas kapan terjadinya _switch task._ _Switch task_ tidak terjadi pada sembarang kode pada _task_ kecuali kode tersebut ditandai.\n",
    "\n",
    "_Pre-emptive multitasking_ adalah _multitasking_ di mana sistem operasi kapanpun dapat menginterupsi pekerjaan suatu _thread_ untuk mengerjakan _thread_ lain. Sistem operasi menggunakan kriteria tertentu untuk menentukan kapan _switch_ pengerjaan _thread,_ salah satunya yang paling umum digunakan adalah _time sharing / time slicing,_ yaitu berapa lama waktu yang telah berlalu. Proses penyimpanan keadaan _thread_ sehingga nantinya dapat kembali dikerjakan pada keadaan yang sama dinamakan _context switch_. _Pre-emptive multitasking_ mudah karena tidak dibutuhkan apapun pada kode dalam _thread_ untuk melakukan _switch_.\n",
    "\n",
    "<img src='src/images/Cooperative+vs.+Preemptive+Multitasking.jpg' width='640px'/>\n",
    "<p style=\"text-align: center;color:gray\">Gambar 3. Ilustrasi <i>pre-emptive multitasking</i> dan <i>cooperative multitasking</i>.<br /><i>(Sumber: <a href=\"https://slideplayer.com/slide/8851057/\">https://slideplayer.com/slide/8851057/</a>)</i></p>"
   ]
  },
  {
   "cell_type": "markdown",
   "metadata": {},
   "source": [
    "## Concurrency in (C)Python\n",
    "> _Python is actually a specification for a language that can be implemented in many different ways._ ‒ Kenneth Reitz & Real Python\n",
    "\n",
    "Terdapat berbagai macam implementasi interpreter Python, beberapa di antaranya yang terkenal CPython (C), PyPy (RPython), Jython (Java), dan IronPython (.NET). Setiap interpreter memiliki implementasi masing-masing untuk menginterpretasikan kode Python; implementasi _concurrency_ juga tergantung dengan implementasi interpreter. Sebagai contoh, pada CPython terdapat _Global Interpreter Lock_ / GIL (nantinya akan dibahas), sedangkan pada Jython tidak terdapat GIL. Pada materi ini dipilih interpreter CPython karena interpreter ini merupakan interpreter yang paling umum dan popular digunakan saat ini.\n",
    "\n",
    "Beberapa _package_ bawaan _(built-in)_ yang digunakan dalam materi ini untuk mencapai _concurrency_ pada Python antara lain `threading` _(pre-emptive multitasking),_ `asyncio` _(cooperative multitasking),_ dan `multiprocessing` _(the true parallelism)._ Pada CPython, _concurrency_ pada `threading` dan `asyncio` terjadi hanya pada 1 _core_ dari CPU. Sedangkan, _concurrency_ pada `multiprocessing`dapat terjadi pada multi _core_ dari CPU. "
   ]
  },
  {
   "cell_type": "markdown",
   "metadata": {},
   "source": [
    "## Race Condition\n",
    "Race condition terjadi ketika terdapat 2 _thread_ yang melakukan baca dan tulis pada suatu variabel secara bersamaan, sehingga menyebabkan *bug* pada saat eksekusi.  \n",
    "Misalkan terdapat 2 buah _thread_ yang berjalan bersamaan tanpa proses sinkronisasi atau _lock_ untuk menambahkan nilai suatu variabel sebesar 1 dari nilai sebelumnya, seperti yang dapat dilihat di bawah ini.\n",
    "\n",
    "| Thread 1      | Thread 2      |         | Nilai integer |\n",
    "|---------------|---------------|---------|---------------|\n",
    "|               |               |         | 0             |\n",
    "| baca nilai    |               | &#8592; | 0             |\n",
    "|               | baca nilai    | &#8592; | 0             |\n",
    "| tambahkan 1   |               |         | 0             |\n",
    "|               | tambahkan 1   |         | 0             |\n",
    "| tulis kembali |               | &#8594; | 1             |\n",
    "|               | tulis kembali | &#8594; | 1             |\n",
    "\n",
    "<p style=\"text-align: center;color:gray\">Tabel 1. Ilustrasi <i>race condition</i>.<br /><i>(Referensi tabel: <a href=\"https://en.wikipedia.org/wiki/Race_condition\">https://en.wikipedia.org/wiki/Race_condition/</a>)</i></p>\n",
    "\n",
    "Variabel memiliki nilai awal sebesar 0. Ada 2 _thread_ yang berjalan dan masing-masing _thread_ menambahkan senilai 1 dari nilai sebelumnya. Hasil akhir yang diharapkan variabel memiliki nilai sebesar 2, namun karena adanya _race condition,_ hasil akhir yang didapatkan yaitu variabel memiliki nilai sebesar 1.\n",
    "\n",
    "Masalah ini dapat diatasi dengan salah satu cara sinkronisasi menggunakan *lock*. _Lock_ memiliki 2 _state:_ _locked_ dan *unlocked*. *Lock* bisa didapatkan _(acquire)_ dan dilepaskan _(release)_ oleh suatu _thread_ yang sedang berjalan.  \n",
    "Misalkan pada contoh _race condition_ di atas diberikan sebuah _lock_ yang dibagikan ke kedua _thread._ _Thread_ 1 _acquire lock_ sebelum membaca nilai variabel, sehingga _state lock_ berubah menjadi _locked._ Sesaat kemudian, _thread_ 2 melakukan *acquire lock*, namun karena _lock_ berada pada _state locked,_ maka _thread_ 2 berhenti dan menunggu hingga _lock_ tersebut berubah _state_ menjadi *unlocked*. _Thread_ 1 melanjutkan eksekusi, yaitu menambahkan nilai 1 dan menuliskan hasilnya ke variabel, kemudian _release_ lock. Karena _lock_ sudah berubah kembali menjadi *unlocked*, maka _thread_ 2 berhasil *acquire lock*, kemudian mekanisme di atas berulang.\n",
    "\n",
    "| Thread 1      | Thread 2      |         | Nilai integer | Lock state |\n",
    "|---------------|---------------|---------|---------------|------------|\n",
    "|               |               |         | 0             | unlocked   |\n",
    "| acquire lock  |               |         | 0             | unlocked   |\n",
    "| lock acquired |               |         | 0             | locked     |\n",
    "|               | acquire lock  |         | 0             | locked     |\n",
    "| baca nilai    |               | &#8592; | 0             | locked     |\n",
    "| tambahkan 1   |               |         | 0             | locked     |\n",
    "| tulis kembali |               | &#8594; | 1             | locked     |\n",
    "| release lock  |               |         | 1             | locked     |\n",
    "| lock released |               |         | 1             | unlocked   |\n",
    "|               | lock acquired |         | 1             | locked     |\n",
    "|               | baca nilai    | &#8592; | 1             | locked     |\n",
    "|               | tambahkan 1   |         | 1             | locked     |\n",
    "|               | tulis kembali | &#8594; | 2             | locked     |\n",
    "|               | release lock  |         | 2             | locked     |\n",
    "|               | lock released |         | 2             | unlocked   |\n",
    "\n",
    "<p style=\"text-align: center;color:gray\">Tabel 2. Ilustrasi mekanisme <i>lock</i>.<br /></p>"
   ]
  },
  {
   "cell_type": "markdown",
   "metadata": {},
   "source": [
    "## Global Interpreter Lock in CPython\n",
    "\n",
    "CPython menggunakan _reference counting_ untuk manajemen memori, seluruh objek memiliki _reference count_ dan jika _reference count_ mencapai 0, maka memori yang digunakan oleh objek tersebut akan dibebaskan oleh interpreter.  \n",
    "Jika _race condition_ seperti pada contoh yang  sebelumnya telah diberikan terjadi pada mekanisme _reference counting_ ini, maka dapat terjadi masalah di antaranya <a href=\"https://en.wikipedia.org/wiki/Memory_leak\"><i>memory leak</i></a> atau memori dibebaskan sedangkan sebenarnya masih digunakan. Oleh karena itu, CPython memberikan solusi sebuah Global Interpreter Lock (GIL) yang digunakan oleh seluruh _thread_ pada suatu _process_ dalam interpreter CPython ketika akan mengeksekusi baris-baris kode perintah."
   ]
  },
  {
   "cell_type": "markdown",
   "metadata": {},
   "source": [
    "## Multithreading in CPython\n",
    "_Package_ `threading` merupakan _built-in package_ dari (C)Python yang dapat digunakan untuk melakukan \"*multithreading*\". Wajib diketahui, _multithreading_ pada interpreter CPython hanya menggunakan **1 _core_ CPU**, meskipun prosesor yang digunakan memiliki banyak *core*. Hal ini dikarenakan adanya implementasi Global Interpreter Lock pada CPython, seperti pada yang sudah dibahas sebelumnya. Oleh karena itu, *multithreading* pada CPython kurang cocok untuk program yang bersifat CPU*-bound* dan lebih cocok untuk program yang bersifat I/O*-bound*.  \n",
    "Dokumentasi lengkapnya dapat diakses di https://docs.python.org/3.6/library/threading.html.\n",
    "\n",
    "Terdapat 2 cara untuk memulai *thread* baru:\n",
    "1. Menimpa method `run()` dari sub-kelas `threading.Thread` (*inheritance*)\n",
    "2. Memberikan *callable object* ke *keyword argument* `target` dari konstruktor objek / saat membuat objek dari kelas `threading.Thread`"
   ]
  },
  {
   "cell_type": "code",
   "execution_count": 1,
   "metadata": {},
   "outputs": [
    {
     "name": "stdout",
     "output_type": "stream",
     "text": [
      "Requirement already satisfied: numpy in /home/yahya/virtualenvs/tools/lib/python3.6/site-packages (1.17.3)\n",
      "Requirement already satisfied: requests in /home/yahya/virtualenvs/tools/lib/python3.6/site-packages (2.22.0)\n",
      "Requirement already satisfied: aiohttp in /home/yahya/virtualenvs/tools/lib/python3.6/site-packages (3.5.4)\n",
      "Requirement already satisfied: flask in /home/yahya/virtualenvs/tools/lib/python3.6/site-packages (1.1.1)\n",
      "Requirement already satisfied: certifi>=2017.4.17 in /home/yahya/virtualenvs/tools/lib/python3.6/site-packages (from requests) (2019.6.16)\n",
      "Requirement already satisfied: idna<2.9,>=2.5 in /home/yahya/virtualenvs/tools/lib/python3.6/site-packages (from requests) (2.8)\n",
      "Requirement already satisfied: urllib3!=1.25.0,!=1.25.1,<1.26,>=1.21.1 in /home/yahya/virtualenvs/tools/lib/python3.6/site-packages (from requests) (1.25.3)\n",
      "Requirement already satisfied: chardet<3.1.0,>=3.0.2 in /home/yahya/virtualenvs/tools/lib/python3.6/site-packages (from requests) (3.0.4)\n",
      "Requirement already satisfied: async-timeout<4.0,>=3.0 in /home/yahya/virtualenvs/tools/lib/python3.6/site-packages (from aiohttp) (3.0.1)\n",
      "Requirement already satisfied: idna-ssl>=1.0; python_version < \"3.7\" in /home/yahya/virtualenvs/tools/lib/python3.6/site-packages (from aiohttp) (1.1.0)\n",
      "Requirement already satisfied: attrs>=17.3.0 in /home/yahya/virtualenvs/tools/lib/python3.6/site-packages (from aiohttp) (19.1.0)\n",
      "Requirement already satisfied: typing-extensions>=3.6.5; python_version < \"3.7\" in /home/yahya/virtualenvs/tools/lib/python3.6/site-packages (from aiohttp) (3.7.4)\n",
      "Requirement already satisfied: multidict<5.0,>=4.0 in /home/yahya/virtualenvs/tools/lib/python3.6/site-packages (from aiohttp) (4.5.2)\n",
      "Requirement already satisfied: yarl<2.0,>=1.0 in /home/yahya/virtualenvs/tools/lib/python3.6/site-packages (from aiohttp) (1.3.0)\n",
      "Requirement already satisfied: Werkzeug>=0.15 in /home/yahya/virtualenvs/tools/lib/python3.6/site-packages (from flask) (0.15.5)\n",
      "Requirement already satisfied: itsdangerous>=0.24 in /home/yahya/virtualenvs/tools/lib/python3.6/site-packages (from flask) (1.1.0)\n",
      "Requirement already satisfied: Jinja2>=2.10.1 in /home/yahya/virtualenvs/tools/lib/python3.6/site-packages (from flask) (2.10.1)\n",
      "Requirement already satisfied: click>=5.1 in /home/yahya/virtualenvs/tools/lib/python3.6/site-packages (from flask) (7.0)\n",
      "Requirement already satisfied: MarkupSafe>=0.23 in /home/yahya/virtualenvs/tools/lib/python3.6/site-packages (from Jinja2>=2.10.1->flask) (1.1.1)\n",
      "\u001b[33mWARNING: You are using pip version 19.2.3, however version 19.3.1 is available.\n",
      "You should consider upgrading via the 'pip install --upgrade pip' command.\u001b[0m\n"
     ]
    }
   ],
   "source": [
    "# install requirements\n",
    "!pip3 install numpy requests aiohttp flask"
   ]
  },
  {
   "cell_type": "code",
   "execution_count": 2,
   "metadata": {},
   "outputs": [
    {
     "name": "stdout",
     "output_type": "stream",
     "text": [
      "Finished with 8.307k operations, about 8.307k operation per second\r\n"
     ]
    }
   ],
   "source": [
    "# Versi sekuensial untuk perbandingan\n",
    "!python3 src/python/hello_world.py"
   ]
  },
  {
   "cell_type": "code",
   "execution_count": 3,
   "metadata": {},
   "outputs": [
    {
     "name": "stdout",
     "output_type": "stream",
     "text": [
      "Finished with 9.246k operations, about 9.245k operation per second\n",
      "Finished with 9.625k operations, about 9.624k operation per second\n",
      "Finished with 9.736k operations, about 9.735k operation per second\n",
      "Finished with 9.727k operations, about 9.727k operation per second\n",
      "Finished with 9.852k operations, about 9.851k operation per second\n",
      "Finished with 9.754k operations, about 9.754k operation per second\n",
      "Finished with 9.872k operations, about 9.871k operation per second\n",
      "Finished with 9.812k operations, about 9.812k operation per second\n",
      "Finished with 9.854k operations, about 9.854k operation per second\n"
     ]
    }
   ],
   "source": [
    "%%timeit -r 3 -n 3 -q\n",
    "!python3 src/python/hello_world.py"
   ]
  },
  {
   "cell_type": "code",
   "execution_count": 4,
   "metadata": {},
   "outputs": [
    {
     "name": "stdout",
     "output_type": "stream",
     "text": [
      "Thread-1 finished with 0.697k operations, about 0.696k operations per second\r\n",
      "Thread-4 finished with 0.713k operations, about 0.712k operations per second\r\n",
      "Thread-5 finished with 0.688k operations, about 0.687k operations per second\r\n",
      "Thread-6 finished with 0.742k operations, about 0.741k operations per second\r\n",
      "Thread-2 finished with 0.656k operations, about 0.655k operations per second\r\n",
      "Thread-3 finished with 0.723k operations, about 0.722k operations per second\r\n",
      "Finished all jobs, totalling 4.219k operations, about 4.209k operations per second\r\n"
     ]
    }
   ],
   "source": [
    "# Berikut dapat dilihat contoh untuk cara threading yang pertama:\n",
    "!python3 src/python/hello_world_mt.py"
   ]
  },
  {
   "cell_type": "code",
   "execution_count": 5,
   "metadata": {},
   "outputs": [
    {
     "name": "stdout",
     "output_type": "stream",
     "text": [
      "Finished all jobs, totalling 8.922k operations, about 8.912k operations per second\n",
      "Finished all jobs, totalling 3.915k operations, about 3.907k operations per second\n",
      "Finished all jobs, totalling 8.31k operations, about 8.303k operations per second\n",
      "Finished all jobs, totalling 5.057k operations, about 5.049k operations per second\n",
      "Finished all jobs, totalling 5.635k operations, about 5.628k operations per second\n",
      "Finished all jobs, totalling 7.394k operations, about 7.386k operations per second\n",
      "Finished all jobs, totalling 5.949k operations, about 5.939k operations per second\n",
      "Finished all jobs, totalling 6.801k operations, about 6.789k operations per second\n",
      "Finished all jobs, totalling 7.044k operations, about 7.037k operations per second\n"
     ]
    }
   ],
   "source": [
    "%%timeit -r 3 -n 3 -q\n",
    "!python3 src/python/hello_world_mt.py -q"
   ]
  },
  {
   "cell_type": "code",
   "execution_count": 6,
   "metadata": {},
   "outputs": [
    {
     "name": "stdout",
     "output_type": "stream",
     "text": [
      "Finished with 1.17k operations, about 1.169k operations per second\r\n",
      "Finished with 1.071k operations, about 1.071k operations per second\r\n",
      "Finished with 1.113k operations, about 1.112k operations per second\r\n",
      "Finished with 1.128k operations, about 1.127k operations per second\r\n",
      "Finished with 1.074k operations, about 1.073k operations per second\r\n",
      "Finished with 1.128k operations, about 1.127k operations per second\r\n",
      "Finished all jobs, totalling 6.684k operations, about 6.672k operations per second\r\n"
     ]
    }
   ],
   "source": [
    "# Berikut dapat dilihat contoh untuk cara threading yang kedua:\n",
    "!python3 src/python/hello_world_mt_2.py"
   ]
  },
  {
   "cell_type": "code",
   "execution_count": 7,
   "metadata": {},
   "outputs": [
    {
     "name": "stdout",
     "output_type": "stream",
     "text": [
      "Finished all jobs, totalling 8.613k operations, about 8.604k operations per second\n",
      "Finished all jobs, totalling 8.36k operations, about 8.352k operations per second\n",
      "Finished all jobs, totalling 7.96k operations, about 7.951k operations per second\n",
      "Finished all jobs, totalling 8.541k operations, about 8.532k operations per second\n",
      "Finished all jobs, totalling 7.881k operations, about 7.862k operations per second\n",
      "Finished all jobs, totalling 8.233k operations, about 8.222k operations per second\n",
      "Finished all jobs, totalling 5.513k operations, about 5.502k operations per second\n",
      "Finished all jobs, totalling 8.784k operations, about 8.775k operations per second\n",
      "Finished all jobs, totalling 3.989k operations, about 3.981k operations per second\n"
     ]
    }
   ],
   "source": [
    "%%timeit -r 3 -n 3 -q\n",
    "!python3 src/python/hello_world_mt_2.py -q"
   ]
  },
  {
   "cell_type": "markdown",
   "metadata": {},
   "source": [
    "\n",
    "Dari kedua contoh di atas, dapat dilihat pertukaran objek pada _multithreading_ cara pertama dapat dengan menggunakan *class attribute* (*state*), sedangkan pada cara kedua dapat menggunakan `queue.Queue`.  \n",
    "Seluruh objek dalam modul `queue` bersifat *thread-safe*, yaitu objek dapat dengan aman digunakan pada konteks *multithreading* dan terhindar dari *race condition*. Hal ini dicapai karena objek `queue.Queue` mengimplementasikan `threading.lock`. Dokumentasi lengkap dapat diakses di https://docs.python.org/3.6/library/queue.html#module-queue.\n",
    "\n",
    "Versi *multithreading* lebih lambat jika dibandingkan dengan versi *sequential*. Hal ini benar dikarenakan *task* program ini CPU*-bound*, *multithreading* hanya menggunakan 1 *core* CPU, dan adanya *context switching* saat CPU beralih eksekusi dari satu *thread* ke *thread* yang lain.  \n",
    "Seperti yang sudah disampaikan sebelumnya, *multithreading* pada CPython lebih cocok difungsikan untuk program I/O*-bound*."
   ]
  },
  {
   "cell_type": "code",
   "execution_count": 8,
   "metadata": {},
   "outputs": [],
   "source": [
    "### MANDATORY ###\n",
    "# Before starting, run from `src/python` run `server.py` using your terminal out of this notebook\n",
    "# to run Flask app that serve cats image and kitten video for testing"
   ]
  },
  {
   "cell_type": "code",
   "execution_count": 9,
   "metadata": {},
   "outputs": [
    {
     "name": "stdout",
     "output_type": "stream",
     "text": [
      "Finished all jobs in 605.64 ms\r\n"
     ]
    }
   ],
   "source": [
    "# Versi sekuensial untuk perbandingan\n",
    "!python3 src/python/hello_world_io.py"
   ]
  },
  {
   "cell_type": "code",
   "execution_count": 10,
   "metadata": {},
   "outputs": [
    {
     "name": "stdout",
     "output_type": "stream",
     "text": [
      "Finished all jobs in 588.41 ms\n",
      "Finished all jobs in 661.91 ms\n",
      "Finished all jobs in 607.28 ms\n",
      "Finished all jobs in 602.58 ms\n",
      "Finished all jobs in 630.80 ms\n",
      "Finished all jobs in 603.15 ms\n",
      "Finished all jobs in 611.36 ms\n",
      "Finished all jobs in 597.21 ms\n",
      "Finished all jobs in 601.42 ms\n"
     ]
    }
   ],
   "source": [
    "%%timeit -r 3 -n 3 -q\n",
    "!python3 src/python/hello_world_io.py"
   ]
  },
  {
   "cell_type": "code",
   "execution_count": 11,
   "metadata": {},
   "outputs": [
    {
     "name": "stdout",
     "output_type": "stream",
     "text": [
      "Finished all jobs in 975.75 ms\r\n"
     ]
    }
   ],
   "source": [
    "# Versi multithreaded\n",
    "!python3 src/python/hello_world_io_mt.py"
   ]
  },
  {
   "cell_type": "code",
   "execution_count": 12,
   "metadata": {},
   "outputs": [
    {
     "name": "stdout",
     "output_type": "stream",
     "text": [
      "Finished all jobs in 912.86 ms\n",
      "Finished all jobs in 929.12 ms\n",
      "Finished all jobs in 920.80 ms\n",
      "Finished all jobs in 968.80 ms\n",
      "Finished all jobs in 856.66 ms\n",
      "Finished all jobs in 960.01 ms\n",
      "Finished all jobs in 924.05 ms\n",
      "Finished all jobs in 913.96 ms\n",
      "Finished all jobs in 1008.54 ms\n"
     ]
    }
   ],
   "source": [
    "%%timeit -r 3 -n 3 -q\n",
    "!python3 src/python/hello_world_io_mt.py"
   ]
  },
  {
   "cell_type": "markdown",
   "metadata": {},
   "source": [
    "*Weh*, versi *multithreading* lebih lama dibandingkan dengan versi sekuensial untuk mendapatkan konten dari web? *Ono opo iki?*\n",
    "\n",
    "<img src='src/images/Cost-Of-Context-Switching.png' width='640px'/>\n",
    "<p style=\"text-align: center;color:gray\">Gambar 4. <i>Cost of context switching</i>.<br /><i>(Sumber: <a href=\"https://www.codeproject.com/Articles/1083787/Tasks-and-Task-Parallel-Library-TPL-Multi-threadin\">https://www.codeproject.com/Articles/1083787/Tasks-and-Task-Parallel-Library-TPL-Multi-threadin</a>)</i></p>\n",
    "\n",
    "Hal ini benar adanya karena 3 hal:\n",
    "1. Adanya *context switching*, dimana untuk melakukan *switch* dibutuhkan waktu. Dapat dilihat dari total waktu yang dibutuhkan untuk menyelesaikan seluruh pekerjaan.\n",
    "2. *Switching* menggunakan *time slice* (*pre-emptive multitasking*). Dapat dilihat dari waktu masing-masing task seluruhnya menjadi lebih lama jika dibandingkan dengan versi sekuensial.\n",
    "3. Proses `request` berhenti saat *thread* di mana `request` tersebut berada berhenti melakukan eksekusi (berhenti mengunduh konten web) akibat *pre-emptive multitasking*. Dapat dilihat dari waktu masing-masing task seluruhnya menjadi lebih lama jika dibandingkan dengan versi sekuensial.\n",
    "\n",
    "Dari hal-hal tersebut diketahui startegi *multithreading* dibandingkan dengan *sequential* kurang diminati karena dibutuhkan waktu yang lebih banyak untuk menyelesaikan seluruh pekerjaan."
   ]
  },
  {
   "cell_type": "markdown",
   "metadata": {},
   "source": [
    "## Asyncio in CPython\n",
    "_Package_ `asyncio` merupakan *built-in package* yang dapat digunakan untuk membuat program *single threaded concurrent*. *Package* ini memang utamanya dibuat untuk *asynchronous I/O programming*. Beberapa konsep penting yang dibawakan oleh *package* ini dan wajib dipahami sebelum membuat program *single threaded concurrent* diantaranya *event loop*, *coroutine*, dan *future*.\n",
    "\n",
    "*Event loop* merupakan perangkat eksekusi utama yang disediakan oleh `asyncio`, tempat di mana seluruh *task* berjalan. *Method* `asyncio.get_event_loop()` dapat digunakan untuk mendapatkan *event loop* yang telah dibuat dan diatur menjadi *event loop* yang digunakan untuk eksekusi. Jika belum ada *event loop* yang dibuat dan diatur sebelumnya, maka secara standar bawaan *package*, *mehod* tersebut akan membuat *event loop* baru dan menjadikannya sebagai *event loop* yang digunakan untuk eksekusi.\n",
    "\n",
    "```python\n",
    "import asyncio\n",
    "\n",
    "async def async_main():\n",
    "    ...\n",
    "\n",
    "if __name__ == \"__main__\":\n",
    "    loop = asyncio.get_event_loop()\n",
    "    loop.run_until_complete(async_main())\n",
    "    loop.close()\n",
    "```\n",
    "\n",
    "*Coroutine* merupakan *function* dalam Python yang didefinisikan menggunakan *keyword* `async def` yang dapat menghentikan eksekusi kodenya secara kooperatif sebelum mencapai `return`. *Keyword* `await` digunakan pada *coroutine function* dalam *coroutine* untuk memberikan tanda bahwa eksekusi *coroutine* tersebut dapat dihentikan hingga didapatkan hasil dari *coroutine function* yang dipanggil dan pada saat itu juga dapat mengeksekusi *coroutine* yang lain.\n",
    "\n",
    "```python\n",
    "async def f():\n",
    "    ...\n",
    "    return result\n",
    "\n",
    "\n",
    "async def g():\n",
    "    ...\n",
    "    fut = f()\n",
    "    r = await fut # berhenti di sini, eksekusi yang lain, dan kembali ke g() saat didapatkan hasil dari f()\n",
    "    ...\n",
    "    return r\n",
    "\n",
    "async def h():\n",
    "    ...\n",
    "    return result\n",
    "```\n",
    "\n",
    "*Future* merupakan objek yang didapatkan saat memanggil *coroutine function*. Saat *function* `f()` dipanggil, belum terjadi apa-apa, `f()` belum dieksekusi, dan yang didapatkan adalah objek *future*. Diperlukan `await` untuk mendapatkan hasil dari *future* tersebut."
   ]
  },
  {
   "cell_type": "code",
   "execution_count": 13,
   "metadata": {},
   "outputs": [],
   "source": [
    "### MANDATORY ###\n",
    "# Before starting, run from `src/python` run `server.py` using your terminal out of this notebook\n",
    "# to run Flask app that serve cats image and kitten video for testing\n",
    "# Ignore if it is already running"
   ]
  },
  {
   "cell_type": "code",
   "execution_count": 14,
   "metadata": {},
   "outputs": [
    {
     "name": "stdout",
     "output_type": "stream",
     "text": [
      "Finished all jobs in 680.63 ms\r\n"
     ]
    }
   ],
   "source": [
    "# Versi asyncio\n",
    "!python3 src/python/hello_world_io_asyncio.py"
   ]
  },
  {
   "cell_type": "code",
   "execution_count": 15,
   "metadata": {},
   "outputs": [
    {
     "name": "stdout",
     "output_type": "stream",
     "text": [
      "Finished all jobs in 759.39 ms\n",
      "Finished all jobs in 611.15 ms\n",
      "Finished all jobs in 578.92 ms\n",
      "Finished all jobs in 602.97 ms\n",
      "Finished all jobs in 629.15 ms\n",
      "Finished all jobs in 613.71 ms\n",
      "Finished all jobs in 618.92 ms\n",
      "Finished all jobs in 610.74 ms\n",
      "Finished all jobs in 625.15 ms\n"
     ]
    }
   ],
   "source": [
    "%%timeit -r 3 -n 3 -q\n",
    "!python3 src/python/hello_world_io_asyncio.py"
   ]
  },
  {
   "cell_type": "markdown",
   "metadata": {},
   "source": [
    "Dari contoh di atas dapat dilihat pendekatan `asyncio` rata-rata lebih cepat jika dibandingkan dengan pendekatan versi sekuensial."
   ]
  },
  {
   "cell_type": "markdown",
   "metadata": {},
   "source": [
    "## Multiprocessing in CPython\n",
    "*Package* `multiprocessing` merupakan *built-in package* yang dapat digunakan untuk mencapai *parallelism*. Kita dapat memanfaatkan banyak CPU *core* dengan menggunakan `multiprocessing.Process` dan `multiprocessing.Pool`, terutama untuk program CPU*-bound*. *Multiprocessing* bekerja dengan cara setiap masing-masing *process* diberikan *interpreter* sendiri-sendiri, sehingga antar proses dapat berjalan secara paralel. Antar proses tidak lagi terbatasi oleh GIL seperti pada pendekatan menggunakan `threading`, namun masih tetap ada GIL yang terpisah dalam setiap proses.\n",
    "\n",
    "Perlu diketahui, terdapat perbedaan cara *default* untuk memulai *process* / *start method* antara platform Windows dan Unix. Secara garis besar, pada Windows digunakan *spawn*, sedangkan pada Unix digunakan *fork*. Dokumentasi lengkapnya dapat diakses di https://docs.python.org/3.6/library/multiprocessing.html#contexts-and-start-methods .\n",
    "\n",
    "Masing-masing *process* berjalan menggunakan interpreter sendiri-sendiri yang berarti masing-masing interpreter memiliki ruang memori yang terpisah. Proses pertukaran obyek dan sinkronisasi *state* pada `multiprocessing` tidak semudah pada `threading` ataupun `asyncio`.\n",
    "\n",
    "Terdapat 2 cara untuk mengkomunikasikan antar *process* yang disediakan oleh *package* `multiprocessing`:\n",
    "1. `multiprocessing.Queue`  \n",
    "   Mirip seperti `Queue` yang ada pada *package* `threading`. Pada dasarnya `multiprocessing.Queue` diimplementasikan menggunakan `Pipe` dan beberapa *lock/semaphore*. `multiprocessing.Queue` *thread-safe* dan *process-safe*. Dokumentasi lengkap dapat dilihat di https://docs.python.org/3.6/library/multiprocessing.html#multiprocessing.Queue .\n",
    "   \n",
    "<img src='src/images/multiprocessing-python-4.png' width='320px'/>\n",
    "<p style=\"text-align: center;color:gray\">Gambar 5. multiprocessing.Queue.<br /><i>(Sumber: <a href=\"https://www.geeksforgeeks.org/multiprocessing-python-set-2/\">https://www.geeksforgeeks.org/multiprocessing-python-set-2/</a>)</i></p>\n",
    "\n",
    "2. `multiprocessing.Pipe`  \n",
    "    Pada dasarnya berbentuk koneksi yang terdiri dari 2 ujung untuk menghubungkan 2 `process`. `multiprocessing.Pipe` aman digunakan untuk `multiprocessing` selama kedua `process` mengakses ujung yang berbeda. Dokumentasi lengkap dapat dilihat di https://docs.python.org/3.6/library/multiprocessing.html#multiprocessing.Pipe .\n",
    "\n",
    "<img src='src/images/multiprocessing-python-5.png' width='640px'/>\n",
    "<p style=\"text-align: center;color:gray\">Gambar 6. multiprocessing.Pipe.<br /><i>(Sumber: <a href=\"https://www.geeksforgeeks.org/multiprocessing-python-set-2/\">https://www.geeksforgeeks.org/multiprocessing-python-set-2/</a>)</i></p>\n",
    "\n",
    "Terdapat 2 cara untuk mensinkronisasikan *state* yang disediakan oleh *package* `multiprocessing`:\n",
    "1. *Shared memory*  \n",
    "    Data dapat disimpan dalam *shared memory* bentuk `multiprocessing.Value` atau `multiprocessing.Array`. *Shared memory* lebih cepat untuk diakses daripada *server process*, namun tipe data yang didukung hanya terbatas pada <a href=\"https://docs.python.org/3.6/library/ctypes.html#module-ctypes\">ctypes</a>.\n",
    "\n",
    "<img src='src/images/multiprocessing-python-2.png' width='320px'/>\n",
    "<p style=\"text-align: center;color:gray\">Gambar 7. <i>Shared memory</i>.<br /><i>(Sumber: <a href=\"https://www.geeksforgeeks.org/multiprocessing-python-set-2/\">https://www.geeksforgeeks.org/multiprocessing-python-set-2/</a>)</i></p>\n",
    "\n",
    "2. *Server process*  \n",
    "    Bisa didapatkan dengan menggunakan `multiprocessing.Manager`, dimana dapat menampung tipe objek Python yang lebih banyak, di antaranya list, dict, Namespace, Lock, RLock, Semaphore, BoundedSemaphore, Condition, Event, Barrier, Queue, Value and Array. *Server process* lebih lambat daripada *shared memory* karena objek diakses menggunakan *proxy*. *Server process* ini juga dapat diakses oleh proses lain pada mesin yang berbeda melalui jaringan.\n",
    "\n",
    "<img src='src/images/multiprocessing-python-3.png' width='480px'/>\n",
    "<p style=\"text-align: center;color:gray\">Gambar 8. <i>Server process</i>.<br /><i>(Sumber: <a href=\"https://www.geeksforgeeks.org/multiprocessing-python-set-2/\">https://www.geeksforgeeks.org/multiprocessing-python-set-2/</a>)</i></p>\n",
    "\n",
    "Pemrograman menggunakan `multiprocessing` sangat dianjurkan untuk mengikuti *programming guidelines* yang dapat diakses di https://docs.python.org/3.6/library/multiprocessing.html#programming-guidelines .\n",
    "\n",
    "Terdapat 2 cara untuk memulai *process*:\n",
    "1. Menimpa method `run()` dari sub-kelas `multiprocessing.Process` (*class inheritance*)\n",
    "2. Menggunakan `multiprocessing.Pool` untuk membuat *pool of workers*, kemudian menggunakan *method* `Pool().apply_async` atau `Pool().map`."
   ]
  },
  {
   "cell_type": "code",
   "execution_count": 16,
   "metadata": {},
   "outputs": [
    {
     "name": "stdout",
     "output_type": "stream",
     "text": [
      "HelloWorldMP-1 finished with 6.129k operations, about 6.128k operations per second\r\n",
      "HelloWorldMP-2 finished with 6.15k operations, about 6.149k operations per second\r\n",
      "HelloWorldMP-3 finished with 6.15k operations, about 6.149k operations per second\r\n",
      "HelloWorldMP-4 finished with 6.135k operations, about 6.134k operations per second\r\n",
      "HelloWorldMP-5 finished with 5.996k operations, about 5.995k operations per second\r\n",
      "HelloWorldMP-6 finished with 5.912k operations, about 5.911k operations per second\r\n",
      "Finished all jobs, totalling 36.472k operations, about 36.084k operations per second\r\n"
     ]
    }
   ],
   "source": [
    "# Berikut dapat dilihat cara multiprocessing yang pertama\n",
    "!python3 src/python/hello_world_mp.py"
   ]
  },
  {
   "cell_type": "code",
   "execution_count": 17,
   "metadata": {},
   "outputs": [
    {
     "name": "stdout",
     "output_type": "stream",
     "text": [
      "Finished all jobs, totalling 36.554k operations, about 36.233k operations per second\n",
      "Finished all jobs, totalling 37.114k operations, about 36.810k operations per second\n",
      "Finished all jobs, totalling 35.273k operations, about 34.966k operations per second\n",
      "Finished all jobs, totalling 33.788k operations, about 33.470k operations per second\n",
      "Finished all jobs, totalling 36.636k operations, about 36.265k operations per second\n",
      "Finished all jobs, totalling 36.517k operations, about 36.201k operations per second\n",
      "Finished all jobs, totalling 35.333k operations, about 35.034k operations per second\n",
      "Finished all jobs, totalling 36.808k operations, about 36.480k operations per second\n",
      "Finished all jobs, totalling 36.765k operations, about 36.457k operations per second\n"
     ]
    }
   ],
   "source": [
    "%%timeit -r 3 -n 3 -q\n",
    "!python3 src/python/hello_world_mp.py -q"
   ]
  },
  {
   "cell_type": "code",
   "execution_count": 18,
   "metadata": {},
   "outputs": [
    {
     "name": "stdout",
     "output_type": "stream",
     "text": [
      "Worker 0: Finished with 6.223k operations, about 6.222k operations per second\r\n",
      "Worker 1: Finished with 6.191k operations, about 6.190k operations per second\r\n",
      "Worker 2: Finished with 6.18k operations, about 6.179k operations per second\r\n",
      "Worker 3: Finished with 6.118k operations, about 6.118k operations per second\r\n",
      "Worker 4: Finished with 6.213k operations, about 6.213k operations per second\r\n",
      "Worker 5: Finished with 6.235k operations, about 6.234k operations per second\r\n",
      "Finished all jobs, totalling 37.16k operations, about 36.863k operations per second\r\n"
     ]
    }
   ],
   "source": [
    "# Berikut dapat dilihat cara multiprocessing yang kedua\n",
    "!python3 src/python/hello_world_mp_pool.py"
   ]
  },
  {
   "cell_type": "code",
   "execution_count": 19,
   "metadata": {},
   "outputs": [
    {
     "name": "stdout",
     "output_type": "stream",
     "text": [
      "Finished all jobs, totalling 35.694k operations, about 35.393k operations per second\n",
      "Finished all jobs, totalling 34.986k operations, about 34.705k operations per second\n",
      "Finished all jobs, totalling 36.762k operations, about 36.458k operations per second\n",
      "Finished all jobs, totalling 36.68k operations, about 36.381k operations per second\n",
      "Finished all jobs, totalling 36.697k operations, about 36.407k operations per second\n",
      "Finished all jobs, totalling 36.26k operations, about 35.964k operations per second\n",
      "Finished all jobs, totalling 37.077k operations, about 36.786k operations per second\n",
      "Finished all jobs, totalling 37.067k operations, about 36.766k operations per second\n",
      "Finished all jobs, totalling 36.506k operations, about 36.212k operations per second\n"
     ]
    }
   ],
   "source": [
    "%%timeit -r 3 -n 3 -q\n",
    "!python3 src/python/hello_world_mp_pool.py -q"
   ]
  },
  {
   "cell_type": "markdown",
   "metadata": {},
   "source": [
    "Dari kedua contoh di atas, diketahui versi *multiprocessing* jauh lebih cepat jika dibandingkan dengan versi sekuensial. Hal ini benar dikarenakan *task* program ini CPU*-bound*, *multiprocessing* menggunakan *core* CPU sejumlah `num_jobs` / *worker* yang diminta. Jumlah *worker* ini bervariasi, tergantung jumlah *core* dari CPU. *Rule-of-thumb* yang dapat digunakan adalah jumlah *worker* sama dengan jumlah *physical cores*.  "
   ]
  },
  {
   "cell_type": "code",
   "execution_count": 20,
   "metadata": {},
   "outputs": [
    {
     "name": "stdout",
     "output_type": "stream",
     "text": [
      "Finished all jobs in 982.33 ms\r\n"
     ]
    }
   ],
   "source": [
    "# Multiprocessing untuk I/O\n",
    "!python3 src/python/hello_world_io_mp_pool.py"
   ]
  },
  {
   "cell_type": "code",
   "execution_count": 21,
   "metadata": {},
   "outputs": [
    {
     "name": "stdout",
     "output_type": "stream",
     "text": [
      "Finished all jobs in 999.02 ms\n",
      "Finished all jobs in 1037.46 ms\n",
      "Finished all jobs in 1019.11 ms\n",
      "Finished all jobs in 1008.75 ms\n",
      "Finished all jobs in 1029.29 ms\n",
      "Finished all jobs in 986.97 ms\n",
      "Finished all jobs in 981.95 ms\n",
      "Finished all jobs in 1030.14 ms\n",
      "Finished all jobs in 955.55 ms\n"
     ]
    }
   ],
   "source": [
    "%%timeit -r 3 -n 3 -q\n",
    "!python3 src/python/hello_world_io_mp_pool.py"
   ]
  },
  {
   "cell_type": "markdown",
   "metadata": {},
   "source": [
    "Hasil *multiprocessing* pada contoh program I/O*-bound* di atas, waktu eksekusi lebih lambat dibandingkan dengan versi sekuensial dikarenakan adanya *overhead* saat membuat *process* baru. Selain itu, modul `requests` sebenarnya tidak dapat dibagikan dan digunakan secara bersama-sama, namun masing-masing proses membuat salinan objek baru sendiri-sendiri di dalam proses."
   ]
  },
  {
   "cell_type": "markdown",
   "metadata": {},
   "source": [
    "## Summary\n",
    "\n",
    "Berdasarkan hasil eksekusi beberapa contoh program di atas, dapat dilihat bahwa `asyncio` (*cooperative multitasking*) untuk I/O*-bound* lebih baik daripada versi *sequential*. *Package* `threading` (*pre-emptive multitasking*) baik untuk CPU*-bound* maupun I/O*-bound* tidak lebih cepat daripada versi *sequential*, namun tetap bisa digunakan jika tetap diinginkan *concurrent* I/O dan tidak tersedia *packages* versi `asyncio`. `multiprocessing` (*the true parallelism*) untuk CPU*-bound* lebih cepat daripada versi *sequential*, namun tidak untuk I/O*-bound*.\n",
    "\n",
    "Ringkasan cara memilih *concurrency* dan *parallelism* menggunakan *built-in packages* yang telah dibahas dalam materi ini dapat dilihat pada gambar berikut.\n",
    "\n",
    "<img src='src/images/summary.png' width='1280px'/>\n",
    "<p style=\"text-align: center;color:gray\">Gambar 9. <i>Choosing concurrency and parallelism for your Python projects.</i></p>\n",
    "\n",
    "### Concurrency and parallelism packages\n",
    "Banyak sekali *packages* yang dikembangkan oleh pihak ketiga dengan menggunakan berbagai macam teknologi agar dicapai *concurrency* dan *parallelism*. Beberapa diantaranya yang dapat saya sebutkan:  \n",
    "- Twisted\n",
    "- Dask\n",
    "- Celery\n",
    "- Ray\n",
    "- Tornado IOLoop\n",
    "- Gevent\n",
    "- dan masih banyak lagi."
   ]
  },
  {
   "cell_type": "markdown",
   "metadata": {},
   "source": [
    "### References\n",
    "https://hackernoon.com/why-concurrency-is-hard-a45295e96114  \n",
    "https://stackoverflow.com/questions/1050222/what-is-the-difference-between-concurrency-and-parallelism  \n",
    "https://realpython.com/python-concurrency/  \n",
    "https://docs.python-guide.org/starting/which-python/  \n",
    "https://www.jython.org/jythonbook/en/1.0/Concurrency.html  \n",
    "https://hackernoon.com/concurrent-programming-in-python-is-not-what-you-think-it-is-b6439c3f3e6a  \n",
    "https://whatis.techtarget.com/definition/preemptive-multitasking  \n",
    "https://www.pcmag.com/encyclopedia/term/48051/non-preemptive-multitasking  \n",
    "https://stackoverflow.com/questions/3042717/what-is-the-difference-between-a-thread-process-task  \n",
    "https://www.hellsoft.se/understanding-cpu-and-i-o-bound-for-asynchronous-operations/  \n",
    "https://realpython.com/python-gil/  \n",
    "https://docs.python.org/3.6/library/threading.html  \n",
    "https://docs.python.org/3.6/library/multiprocessing.html  \n",
    "https://docs.python.org/3.6/library/asyncio.html  \n",
    "https://docs.python.org/3.6/library/queue.html  "
   ]
  }
 ],
 "metadata": {
  "file_extension": ".py",
  "kernelspec": {
   "display_name": "Python 3",
   "language": "python",
   "name": "python3"
  },
  "language_info": {
   "codemirror_mode": {
    "name": "ipython",
    "version": 3
   },
   "file_extension": ".py",
   "mimetype": "text/x-python",
   "name": "python",
   "nbconvert_exporter": "python",
   "pygments_lexer": "ipython3",
   "version": "3.6.6"
  },
  "mimetype": "text/x-python",
  "name": "python",
  "npconvert_exporter": "python",
  "pygments_lexer": "ipython3",
  "version": 3
 },
 "nbformat": 4,
 "nbformat_minor": 2
}
